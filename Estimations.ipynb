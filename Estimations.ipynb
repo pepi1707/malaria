{
 "cells": [
  {
   "cell_type": "markdown",
   "metadata": {},
   "source": [
    "## Types of malaria tests\n",
    "### Blood smear\n",
    "https://en.wikipedia.org/wiki/Blood_film\n",
    "\n",
    "### Rapid diagnostics test\n",
    "https://www.who.int/malaria/areas/diagnosis/rapid-diagnostic-tests/about-rdt/en/\n",
    "\n",
    "Estimated price: $5\n",
    "\n",
    "Sounds very competitive, but could it replace the blood smear or is it for screening only?\n",
    "\n",
    "### PCR/molecular\n",
    "\n",
    "\n",
    "TODO\n",
    "* What are the costs and pros/cons of each test type(e.g. sensitivity/specificity)?\n",
    "* What are the trends that we may expect in the next years. E.g. is some test going to become obsolete?\n",
    "* What are the causes of death of the 400,000 people, is it because they weren't tested or because they were misdiagnosed or sth else?\n",
    "* What are the prices of the medicines?\n",
    "* Who pays for the treatmeant?\n",
    "* What are the financial problems in the realization?\n",
    "\n",
    "\n",
    "## Current examination procedure in malaria hero\n",
    "\n",
    "* The sample - a drop of blood - is smeared between two glasses. Then some chemical is added for staining and fixation. There are two types of blood smear: **thin** and **thick** films. TODO: which one is being used?\n",
    "\n",
    "Our current understanding is that this part of the procedure is not a problem in the malaria affected countries. It is the examination that is very labor intensive and error prone.\n",
    "* A clinician observes the sample under a microscope at 100x magnification. They must count at least 5000 red blood cells and tell how many of them are infected (coloured bluish by the chemical). A single red blood cell is about $8\\mu m$ in diameter.\n",
    "\n",
    "\n",
    "## Technical questions:\n",
    "\n",
    "* How many pixels do we need for 5000 RBC to be observable?\n",
    "  * Is it possible to have all the 5000 RBCs in a single shot?\n",
    "* How much magnification do we need if we use a decent smartphone camera (e.g. 10MP)?\n",
    "* If it is required to take multiple photos to reach 5000 RBCs, how can we ensure that the clinician is not shooting overlapping areas?\n",
    "  * Option1: Detect this algorithmically and reject the test\n",
    "  * Option2: Custom made microscopic device that holds the sample still and lets the user slide it e.g. by 1mm. We can also use this for the back light.\n",
    "* Are all blood smear glasses standard in size?\n",
    "\n",
    "TODO get blood smear samples for examination.\n",
    "\n",
    "# Competitive solutions\n",
    "\n",
    "## Hemozoin based\n",
    "### MIT magnetic resonance relaxometry (MRR) method (2014)\n",
    "The idea is to detect hemozoine, because it disrupts the alignment of hydrogen atoms in strong magnetic fields. We could not find a comercialized version of this prototype or any deployments\n",
    "\n",
    "### USC portable optical diagnostics system (PODS) (2018)\n",
    "Similar to the MIT prototype, here hemozoin is used as an indicator of malaria presence and severity. However, instead of measuring the allignment of hydrogen atoms, the authors run a laser/detector through the sample and measure the differential of light intensity as hemozoin is dragged away by a strong magnet. The suggested use is for screening.\n",
    "\n",
    "\n",
    "* Advantages of hemozoin based detection\n",
    "    * Relatively simple design\n",
    "    * Low per-sample cost (not counting the price of the device)\n",
    "    * No reagents needed\n",
    "    * No need to store the sample in refrigerator (e.g. as in the rapid diagnostics test)\n",
    "* Disadvantages\n",
    "    * \n",
    "\n",
    "## Image recognition based\n",
    "IV lab has attempted to create an automatic microscope that analyzes a blood smear autonomously (without human inspection). However the study from [5] reports poor results.\n",
    "\n",
    "### \n",
    "\n",
    "[1] https://en.wikipedia.org/wiki/Red_blood_cell\n",
    "\n",
    "[2] https://www.who.int/news-room/fact-sheets/detail/malaria\n",
    "\n",
    "[3] http://news.mit.edu/2014/new-method-diagnose-malaria-0831\n",
    "\n",
    "[4] https://news.usc.edu/143654/portable-malaria-screening-instrument-developed-by-usc-engineers/\n",
    "\n",
    "[5] https://www.ncbi.nlm.nih.gov/pmc/articles/PMC6157053/\n",
    "\n",
    "[6] https://www.intellectualventures.com/\n",
    "\n",
    "\n",
    "# Possible datasets\n",
    "\n",
    "* http://www.biosigdata.com/?download=malaria-image\n",
    "* ...\n",
    "\n",
    "# Tasks\n",
    "* Reproduce the Malaria Hero results.\n",
    "  * https://keras.io/applications/#inceptionv3\n",
    "  * https://github.com/keras-team/keras-applications/issues/59\n",
    "* Look for more datasets"
   ]
  },
  {
   "cell_type": "code",
   "execution_count": 1,
   "metadata": {},
   "outputs": [
    {
     "name": "stdout",
     "output_type": "stream",
     "text": [
      "0.008\n"
     ]
    }
   ],
   "source": [
    "rbc_diameter = 0.008 # in milimeters\n",
    "print(rbc_diameter)"
   ]
  },
  {
   "cell_type": "code",
   "execution_count": null,
   "metadata": {},
   "outputs": [],
   "source": []
  }
 ],
 "metadata": {
  "kernelspec": {
   "display_name": "Python 3",
   "language": "python",
   "name": "python3"
  },
  "language_info": {
   "codemirror_mode": {
    "name": "ipython",
    "version": 3
   },
   "file_extension": ".py",
   "mimetype": "text/x-python",
   "name": "python",
   "nbconvert_exporter": "python",
   "pygments_lexer": "ipython3",
   "version": "3.6.4"
  }
 },
 "nbformat": 4,
 "nbformat_minor": 2
}
